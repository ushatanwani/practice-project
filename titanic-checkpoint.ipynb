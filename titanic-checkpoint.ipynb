{
 "cells": [
  {
   "cell_type": "code",
   "execution_count": 1,
   "id": "6b646e61",
   "metadata": {},
   "outputs": [],
   "source": [
    "import pandas as pd\n",
    "import numpy as np\n",
    "import warnings\n",
    "warnings.filterwarnings ('ignore')\n",
    "import seaborn as sns\n",
    "import matplotlib.pyplot as plt\n",
    "#import scikitlearn as scipy\n",
    "from scipy import stats"
   ]
  },
  {
   "cell_type": "code",
   "execution_count": 2,
   "id": "ac9dc5e4",
   "metadata": {},
   "outputs": [],
   "source": [
    "df=pd.read_csv(\"titanic.csv\")"
   ]
  },
  {
   "cell_type": "code",
   "execution_count": 3,
   "id": "57abe303",
   "metadata": {},
   "outputs": [
    {
     "data": {
      "text/html": [
       "<div>\n",
       "<style scoped>\n",
       "    .dataframe tbody tr th:only-of-type {\n",
       "        vertical-align: middle;\n",
       "    }\n",
       "\n",
       "    .dataframe tbody tr th {\n",
       "        vertical-align: top;\n",
       "    }\n",
       "\n",
       "    .dataframe thead th {\n",
       "        text-align: right;\n",
       "    }\n",
       "</style>\n",
       "<table border=\"1\" class=\"dataframe\">\n",
       "  <thead>\n",
       "    <tr style=\"text-align: right;\">\n",
       "      <th></th>\n",
       "      <th>PassengerId</th>\n",
       "      <th>Survived</th>\n",
       "      <th>Pclass</th>\n",
       "      <th>Name</th>\n",
       "      <th>Sex</th>\n",
       "      <th>Age</th>\n",
       "      <th>SibSp</th>\n",
       "      <th>Parch</th>\n",
       "      <th>Ticket</th>\n",
       "      <th>Fare</th>\n",
       "      <th>Cabin</th>\n",
       "      <th>Embarked</th>\n",
       "    </tr>\n",
       "  </thead>\n",
       "  <tbody>\n",
       "    <tr>\n",
       "      <th>0</th>\n",
       "      <td>1</td>\n",
       "      <td>0</td>\n",
       "      <td>3</td>\n",
       "      <td>Braund, Mr. Owen Harris</td>\n",
       "      <td>male</td>\n",
       "      <td>22.0</td>\n",
       "      <td>1</td>\n",
       "      <td>0</td>\n",
       "      <td>A/5 21171</td>\n",
       "      <td>7.2500</td>\n",
       "      <td>NaN</td>\n",
       "      <td>S</td>\n",
       "    </tr>\n",
       "    <tr>\n",
       "      <th>1</th>\n",
       "      <td>2</td>\n",
       "      <td>1</td>\n",
       "      <td>1</td>\n",
       "      <td>Cumings, Mrs. John Bradley (Florence Briggs Th...</td>\n",
       "      <td>female</td>\n",
       "      <td>38.0</td>\n",
       "      <td>1</td>\n",
       "      <td>0</td>\n",
       "      <td>PC 17599</td>\n",
       "      <td>71.2833</td>\n",
       "      <td>C85</td>\n",
       "      <td>C</td>\n",
       "    </tr>\n",
       "    <tr>\n",
       "      <th>2</th>\n",
       "      <td>3</td>\n",
       "      <td>1</td>\n",
       "      <td>3</td>\n",
       "      <td>Heikkinen, Miss. Laina</td>\n",
       "      <td>female</td>\n",
       "      <td>26.0</td>\n",
       "      <td>0</td>\n",
       "      <td>0</td>\n",
       "      <td>STON/O2. 3101282</td>\n",
       "      <td>7.9250</td>\n",
       "      <td>NaN</td>\n",
       "      <td>S</td>\n",
       "    </tr>\n",
       "    <tr>\n",
       "      <th>3</th>\n",
       "      <td>4</td>\n",
       "      <td>1</td>\n",
       "      <td>1</td>\n",
       "      <td>Futrelle, Mrs. Jacques Heath (Lily May Peel)</td>\n",
       "      <td>female</td>\n",
       "      <td>35.0</td>\n",
       "      <td>1</td>\n",
       "      <td>0</td>\n",
       "      <td>113803</td>\n",
       "      <td>53.1000</td>\n",
       "      <td>C123</td>\n",
       "      <td>S</td>\n",
       "    </tr>\n",
       "    <tr>\n",
       "      <th>4</th>\n",
       "      <td>5</td>\n",
       "      <td>0</td>\n",
       "      <td>3</td>\n",
       "      <td>Allen, Mr. William Henry</td>\n",
       "      <td>male</td>\n",
       "      <td>35.0</td>\n",
       "      <td>0</td>\n",
       "      <td>0</td>\n",
       "      <td>373450</td>\n",
       "      <td>8.0500</td>\n",
       "      <td>NaN</td>\n",
       "      <td>S</td>\n",
       "    </tr>\n",
       "  </tbody>\n",
       "</table>\n",
       "</div>"
      ],
      "text/plain": [
       "   PassengerId  Survived  Pclass  \\\n",
       "0            1         0       3   \n",
       "1            2         1       1   \n",
       "2            3         1       3   \n",
       "3            4         1       1   \n",
       "4            5         0       3   \n",
       "\n",
       "                                                Name     Sex   Age  SibSp  \\\n",
       "0                            Braund, Mr. Owen Harris    male  22.0      1   \n",
       "1  Cumings, Mrs. John Bradley (Florence Briggs Th...  female  38.0      1   \n",
       "2                             Heikkinen, Miss. Laina  female  26.0      0   \n",
       "3       Futrelle, Mrs. Jacques Heath (Lily May Peel)  female  35.0      1   \n",
       "4                           Allen, Mr. William Henry    male  35.0      0   \n",
       "\n",
       "   Parch            Ticket     Fare Cabin Embarked  \n",
       "0      0         A/5 21171   7.2500   NaN        S  \n",
       "1      0          PC 17599  71.2833   C85        C  \n",
       "2      0  STON/O2. 3101282   7.9250   NaN        S  \n",
       "3      0            113803  53.1000  C123        S  \n",
       "4      0            373450   8.0500   NaN        S  "
      ]
     },
     "execution_count": 3,
     "metadata": {},
     "output_type": "execute_result"
    }
   ],
   "source": [
    "df.head()"
   ]
  },
  {
   "cell_type": "code",
   "execution_count": 4,
   "id": "524e6ee9",
   "metadata": {},
   "outputs": [
    {
     "data": {
      "text/plain": [
       "(891, 12)"
      ]
     },
     "execution_count": 4,
     "metadata": {},
     "output_type": "execute_result"
    }
   ],
   "source": [
    "df.shape"
   ]
  },
  {
   "cell_type": "code",
   "execution_count": 5,
   "id": "1707e27b",
   "metadata": {},
   "outputs": [
    {
     "data": {
      "text/plain": [
       "Index(['PassengerId', 'Survived', 'Pclass', 'Name', 'Sex', 'Age', 'SibSp',\n",
       "       'Parch', 'Ticket', 'Fare', 'Cabin', 'Embarked'],\n",
       "      dtype='object')"
      ]
     },
     "execution_count": 5,
     "metadata": {},
     "output_type": "execute_result"
    }
   ],
   "source": [
    "df.columns"
   ]
  },
  {
   "cell_type": "code",
   "execution_count": 6,
   "id": "da5b6093",
   "metadata": {},
   "outputs": [
    {
     "data": {
      "text/plain": [
       "PassengerId      int64\n",
       "Survived         int64\n",
       "Pclass           int64\n",
       "Name            object\n",
       "Sex             object\n",
       "Age            float64\n",
       "SibSp            int64\n",
       "Parch            int64\n",
       "Ticket          object\n",
       "Fare           float64\n",
       "Cabin           object\n",
       "Embarked        object\n",
       "dtype: object"
      ]
     },
     "execution_count": 6,
     "metadata": {},
     "output_type": "execute_result"
    }
   ],
   "source": [
    "df.dtypes"
   ]
  },
  {
   "cell_type": "code",
   "execution_count": 7,
   "id": "fde30bd2",
   "metadata": {},
   "outputs": [],
   "source": [
    "df.drop('Name',inplace=True,axis=1)"
   ]
  },
  {
   "cell_type": "code",
   "execution_count": 8,
   "id": "92e1b3d5",
   "metadata": {},
   "outputs": [
    {
     "data": {
      "text/plain": [
       "(891, 11)"
      ]
     },
     "execution_count": 8,
     "metadata": {},
     "output_type": "execute_result"
    }
   ],
   "source": [
    "df.shape"
   ]
  },
  {
   "cell_type": "code",
   "execution_count": 9,
   "id": "3a5dea54",
   "metadata": {},
   "outputs": [
    {
     "data": {
      "text/plain": [
       "PassengerId      0\n",
       "Survived         0\n",
       "Pclass           0\n",
       "Sex              0\n",
       "Age            177\n",
       "SibSp            0\n",
       "Parch            0\n",
       "Ticket           0\n",
       "Fare             0\n",
       "Cabin          687\n",
       "Embarked         2\n",
       "dtype: int64"
      ]
     },
     "execution_count": 9,
     "metadata": {},
     "output_type": "execute_result"
    }
   ],
   "source": [
    "df.isnull().sum()"
   ]
  },
  {
   "cell_type": "code",
   "execution_count": 10,
   "id": "cf50cccf",
   "metadata": {},
   "outputs": [],
   "source": [
    "df.drop('Cabin',axis=1,inplace=True)"
   ]
  },
  {
   "cell_type": "code",
   "execution_count": 11,
   "id": "4876f605",
   "metadata": {},
   "outputs": [],
   "source": [
    "df.index.name=\"PassengerId\""
   ]
  },
  {
   "cell_type": "code",
   "execution_count": 12,
   "id": "ae92b410",
   "metadata": {},
   "outputs": [
    {
     "data": {
      "text/plain": [
       "29.69911764705882"
      ]
     },
     "execution_count": 12,
     "metadata": {},
     "output_type": "execute_result"
    }
   ],
   "source": [
    "m=df['Age'].mean()\n",
    "m"
   ]
  },
  {
   "cell_type": "code",
   "execution_count": 13,
   "id": "128a6778",
   "metadata": {},
   "outputs": [],
   "source": [
    "df['Age'].fillna(\"29.69\" ,inplace=True)"
   ]
  },
  {
   "cell_type": "code",
   "execution_count": 14,
   "id": "f6c221e8",
   "metadata": {},
   "outputs": [
    {
     "data": {
      "text/plain": [
       "(891, 10)"
      ]
     },
     "execution_count": 14,
     "metadata": {},
     "output_type": "execute_result"
    }
   ],
   "source": [
    "df.shape"
   ]
  },
  {
   "cell_type": "code",
   "execution_count": 15,
   "id": "5011ca06",
   "metadata": {},
   "outputs": [
    {
     "data": {
      "text/html": [
       "<div>\n",
       "<style scoped>\n",
       "    .dataframe tbody tr th:only-of-type {\n",
       "        vertical-align: middle;\n",
       "    }\n",
       "\n",
       "    .dataframe tbody tr th {\n",
       "        vertical-align: top;\n",
       "    }\n",
       "\n",
       "    .dataframe thead th {\n",
       "        text-align: right;\n",
       "    }\n",
       "</style>\n",
       "<table border=\"1\" class=\"dataframe\">\n",
       "  <thead>\n",
       "    <tr style=\"text-align: right;\">\n",
       "      <th></th>\n",
       "      <th>PassengerId</th>\n",
       "      <th>Survived</th>\n",
       "      <th>Pclass</th>\n",
       "      <th>Sex</th>\n",
       "      <th>Age</th>\n",
       "      <th>SibSp</th>\n",
       "      <th>Parch</th>\n",
       "      <th>Ticket</th>\n",
       "      <th>Fare</th>\n",
       "      <th>Embarked</th>\n",
       "    </tr>\n",
       "    <tr>\n",
       "      <th>PassengerId</th>\n",
       "      <th></th>\n",
       "      <th></th>\n",
       "      <th></th>\n",
       "      <th></th>\n",
       "      <th></th>\n",
       "      <th></th>\n",
       "      <th></th>\n",
       "      <th></th>\n",
       "      <th></th>\n",
       "      <th></th>\n",
       "    </tr>\n",
       "  </thead>\n",
       "  <tbody>\n",
       "    <tr>\n",
       "      <th>441</th>\n",
       "      <td>442</td>\n",
       "      <td>0</td>\n",
       "      <td>3</td>\n",
       "      <td>male</td>\n",
       "      <td>20.0</td>\n",
       "      <td>0</td>\n",
       "      <td>0</td>\n",
       "      <td>345769</td>\n",
       "      <td>9.5</td>\n",
       "      <td>S</td>\n",
       "    </tr>\n",
       "  </tbody>\n",
       "</table>\n",
       "</div>"
      ],
      "text/plain": [
       "             PassengerId  Survived  Pclass   Sex   Age  SibSp  Parch  Ticket  \\\n",
       "PassengerId                                                                    \n",
       "441                  442         0       3  male  20.0      0      0  345769   \n",
       "\n",
       "             Fare Embarked  \n",
       "PassengerId                 \n",
       "441           9.5        S  "
      ]
     },
     "execution_count": 15,
     "metadata": {},
     "output_type": "execute_result"
    }
   ],
   "source": [
    "df.sample()"
   ]
  },
  {
   "cell_type": "code",
   "execution_count": 16,
   "id": "ad24d86b",
   "metadata": {},
   "outputs": [],
   "source": [
    "df.index.name='index'"
   ]
  },
  {
   "cell_type": "code",
   "execution_count": 17,
   "id": "7e07867b",
   "metadata": {},
   "outputs": [
    {
     "data": {
      "text/html": [
       "<div>\n",
       "<style scoped>\n",
       "    .dataframe tbody tr th:only-of-type {\n",
       "        vertical-align: middle;\n",
       "    }\n",
       "\n",
       "    .dataframe tbody tr th {\n",
       "        vertical-align: top;\n",
       "    }\n",
       "\n",
       "    .dataframe thead th {\n",
       "        text-align: right;\n",
       "    }\n",
       "</style>\n",
       "<table border=\"1\" class=\"dataframe\">\n",
       "  <thead>\n",
       "    <tr style=\"text-align: right;\">\n",
       "      <th></th>\n",
       "      <th>PassengerId</th>\n",
       "      <th>Survived</th>\n",
       "      <th>Pclass</th>\n",
       "      <th>Sex</th>\n",
       "      <th>Age</th>\n",
       "      <th>SibSp</th>\n",
       "      <th>Parch</th>\n",
       "      <th>Ticket</th>\n",
       "      <th>Fare</th>\n",
       "      <th>Embarked</th>\n",
       "    </tr>\n",
       "    <tr>\n",
       "      <th>index</th>\n",
       "      <th></th>\n",
       "      <th></th>\n",
       "      <th></th>\n",
       "      <th></th>\n",
       "      <th></th>\n",
       "      <th></th>\n",
       "      <th></th>\n",
       "      <th></th>\n",
       "      <th></th>\n",
       "      <th></th>\n",
       "    </tr>\n",
       "  </thead>\n",
       "  <tbody>\n",
       "    <tr>\n",
       "      <th>0</th>\n",
       "      <td>1</td>\n",
       "      <td>0</td>\n",
       "      <td>3</td>\n",
       "      <td>male</td>\n",
       "      <td>22.0</td>\n",
       "      <td>1</td>\n",
       "      <td>0</td>\n",
       "      <td>A/5 21171</td>\n",
       "      <td>7.2500</td>\n",
       "      <td>S</td>\n",
       "    </tr>\n",
       "    <tr>\n",
       "      <th>1</th>\n",
       "      <td>2</td>\n",
       "      <td>1</td>\n",
       "      <td>1</td>\n",
       "      <td>female</td>\n",
       "      <td>38.0</td>\n",
       "      <td>1</td>\n",
       "      <td>0</td>\n",
       "      <td>PC 17599</td>\n",
       "      <td>71.2833</td>\n",
       "      <td>C</td>\n",
       "    </tr>\n",
       "    <tr>\n",
       "      <th>2</th>\n",
       "      <td>3</td>\n",
       "      <td>1</td>\n",
       "      <td>3</td>\n",
       "      <td>female</td>\n",
       "      <td>26.0</td>\n",
       "      <td>0</td>\n",
       "      <td>0</td>\n",
       "      <td>STON/O2. 3101282</td>\n",
       "      <td>7.9250</td>\n",
       "      <td>S</td>\n",
       "    </tr>\n",
       "    <tr>\n",
       "      <th>3</th>\n",
       "      <td>4</td>\n",
       "      <td>1</td>\n",
       "      <td>1</td>\n",
       "      <td>female</td>\n",
       "      <td>35.0</td>\n",
       "      <td>1</td>\n",
       "      <td>0</td>\n",
       "      <td>113803</td>\n",
       "      <td>53.1000</td>\n",
       "      <td>S</td>\n",
       "    </tr>\n",
       "    <tr>\n",
       "      <th>4</th>\n",
       "      <td>5</td>\n",
       "      <td>0</td>\n",
       "      <td>3</td>\n",
       "      <td>male</td>\n",
       "      <td>35.0</td>\n",
       "      <td>0</td>\n",
       "      <td>0</td>\n",
       "      <td>373450</td>\n",
       "      <td>8.0500</td>\n",
       "      <td>S</td>\n",
       "    </tr>\n",
       "    <tr>\n",
       "      <th>...</th>\n",
       "      <td>...</td>\n",
       "      <td>...</td>\n",
       "      <td>...</td>\n",
       "      <td>...</td>\n",
       "      <td>...</td>\n",
       "      <td>...</td>\n",
       "      <td>...</td>\n",
       "      <td>...</td>\n",
       "      <td>...</td>\n",
       "      <td>...</td>\n",
       "    </tr>\n",
       "    <tr>\n",
       "      <th>886</th>\n",
       "      <td>887</td>\n",
       "      <td>0</td>\n",
       "      <td>2</td>\n",
       "      <td>male</td>\n",
       "      <td>27.0</td>\n",
       "      <td>0</td>\n",
       "      <td>0</td>\n",
       "      <td>211536</td>\n",
       "      <td>13.0000</td>\n",
       "      <td>S</td>\n",
       "    </tr>\n",
       "    <tr>\n",
       "      <th>887</th>\n",
       "      <td>888</td>\n",
       "      <td>1</td>\n",
       "      <td>1</td>\n",
       "      <td>female</td>\n",
       "      <td>19.0</td>\n",
       "      <td>0</td>\n",
       "      <td>0</td>\n",
       "      <td>112053</td>\n",
       "      <td>30.0000</td>\n",
       "      <td>S</td>\n",
       "    </tr>\n",
       "    <tr>\n",
       "      <th>888</th>\n",
       "      <td>889</td>\n",
       "      <td>0</td>\n",
       "      <td>3</td>\n",
       "      <td>female</td>\n",
       "      <td>29.69</td>\n",
       "      <td>1</td>\n",
       "      <td>2</td>\n",
       "      <td>W./C. 6607</td>\n",
       "      <td>23.4500</td>\n",
       "      <td>S</td>\n",
       "    </tr>\n",
       "    <tr>\n",
       "      <th>889</th>\n",
       "      <td>890</td>\n",
       "      <td>1</td>\n",
       "      <td>1</td>\n",
       "      <td>male</td>\n",
       "      <td>26.0</td>\n",
       "      <td>0</td>\n",
       "      <td>0</td>\n",
       "      <td>111369</td>\n",
       "      <td>30.0000</td>\n",
       "      <td>C</td>\n",
       "    </tr>\n",
       "    <tr>\n",
       "      <th>890</th>\n",
       "      <td>891</td>\n",
       "      <td>0</td>\n",
       "      <td>3</td>\n",
       "      <td>male</td>\n",
       "      <td>32.0</td>\n",
       "      <td>0</td>\n",
       "      <td>0</td>\n",
       "      <td>370376</td>\n",
       "      <td>7.7500</td>\n",
       "      <td>Q</td>\n",
       "    </tr>\n",
       "  </tbody>\n",
       "</table>\n",
       "<p>891 rows × 10 columns</p>\n",
       "</div>"
      ],
      "text/plain": [
       "       PassengerId  Survived  Pclass     Sex    Age  SibSp  Parch  \\\n",
       "index                                                               \n",
       "0                1         0       3    male   22.0      1      0   \n",
       "1                2         1       1  female   38.0      1      0   \n",
       "2                3         1       3  female   26.0      0      0   \n",
       "3                4         1       1  female   35.0      1      0   \n",
       "4                5         0       3    male   35.0      0      0   \n",
       "...            ...       ...     ...     ...    ...    ...    ...   \n",
       "886            887         0       2    male   27.0      0      0   \n",
       "887            888         1       1  female   19.0      0      0   \n",
       "888            889         0       3  female  29.69      1      2   \n",
       "889            890         1       1    male   26.0      0      0   \n",
       "890            891         0       3    male   32.0      0      0   \n",
       "\n",
       "                 Ticket     Fare Embarked  \n",
       "index                                      \n",
       "0             A/5 21171   7.2500        S  \n",
       "1              PC 17599  71.2833        C  \n",
       "2      STON/O2. 3101282   7.9250        S  \n",
       "3                113803  53.1000        S  \n",
       "4                373450   8.0500        S  \n",
       "...                 ...      ...      ...  \n",
       "886              211536  13.0000        S  \n",
       "887              112053  30.0000        S  \n",
       "888          W./C. 6607  23.4500        S  \n",
       "889              111369  30.0000        C  \n",
       "890              370376   7.7500        Q  \n",
       "\n",
       "[891 rows x 10 columns]"
      ]
     },
     "execution_count": 17,
     "metadata": {},
     "output_type": "execute_result"
    }
   ],
   "source": [
    "df"
   ]
  },
  {
   "cell_type": "code",
   "execution_count": 18,
   "id": "c412a839",
   "metadata": {},
   "outputs": [
    {
     "data": {
      "text/plain": [
       "3"
      ]
     },
     "execution_count": 18,
     "metadata": {},
     "output_type": "execute_result"
    }
   ],
   "source": [
    "df['Embarked'].nunique()"
   ]
  },
  {
   "cell_type": "code",
   "execution_count": 19,
   "id": "37b50cb5",
   "metadata": {},
   "outputs": [
    {
     "data": {
      "text/plain": [
       "array(['S', 'C', 'Q', nan], dtype=object)"
      ]
     },
     "execution_count": 19,
     "metadata": {},
     "output_type": "execute_result"
    }
   ],
   "source": [
    "df[\"Embarked\"].unique()"
   ]
  },
  {
   "cell_type": "code",
   "execution_count": 20,
   "id": "fdbd22d2",
   "metadata": {},
   "outputs": [
    {
     "data": {
      "text/plain": [
       "array([0, 1, 2, 5, 3, 4, 6], dtype=int64)"
      ]
     },
     "execution_count": 20,
     "metadata": {},
     "output_type": "execute_result"
    }
   ],
   "source": [
    "df['Parch'].unique()"
   ]
  },
  {
   "cell_type": "code",
   "execution_count": 21,
   "id": "4d6d4c43",
   "metadata": {},
   "outputs": [
    {
     "data": {
      "text/plain": [
       "array([0, 1], dtype=int64)"
      ]
     },
     "execution_count": 21,
     "metadata": {},
     "output_type": "execute_result"
    }
   ],
   "source": [
    "df[\"Survived\"].unique()"
   ]
  },
  {
   "cell_type": "code",
   "execution_count": 22,
   "id": "b3ac60f8",
   "metadata": {},
   "outputs": [
    {
     "data": {
      "text/plain": [
       "array([3, 1, 2], dtype=int64)"
      ]
     },
     "execution_count": 22,
     "metadata": {},
     "output_type": "execute_result"
    }
   ],
   "source": [
    "df[\"Pclass\"].unique()"
   ]
  },
  {
   "cell_type": "code",
   "execution_count": 23,
   "id": "52be57ce",
   "metadata": {},
   "outputs": [],
   "source": [
    "df.dropna(inplace=True)"
   ]
  },
  {
   "cell_type": "code",
   "execution_count": 24,
   "id": "d67ed33d",
   "metadata": {},
   "outputs": [],
   "source": [
    "df.drop('Sex',inplace=True,axis=1)"
   ]
  },
  {
   "cell_type": "code",
   "execution_count": 25,
   "id": "bd9abd0f",
   "metadata": {},
   "outputs": [
    {
     "data": {
      "text/plain": [
       "PassengerId    0\n",
       "Survived       0\n",
       "Pclass         0\n",
       "Age            0\n",
       "SibSp          0\n",
       "Parch          0\n",
       "Ticket         0\n",
       "Fare           0\n",
       "Embarked       0\n",
       "dtype: int64"
      ]
     },
     "execution_count": 25,
     "metadata": {},
     "output_type": "execute_result"
    }
   ],
   "source": [
    "df.isnull().sum()"
   ]
  },
  {
   "cell_type": "code",
   "execution_count": 26,
   "id": "75fd7efa",
   "metadata": {},
   "outputs": [
    {
     "data": {
      "text/html": [
       "<div>\n",
       "<style scoped>\n",
       "    .dataframe tbody tr th:only-of-type {\n",
       "        vertical-align: middle;\n",
       "    }\n",
       "\n",
       "    .dataframe tbody tr th {\n",
       "        vertical-align: top;\n",
       "    }\n",
       "\n",
       "    .dataframe thead th {\n",
       "        text-align: right;\n",
       "    }\n",
       "</style>\n",
       "<table border=\"1\" class=\"dataframe\">\n",
       "  <thead>\n",
       "    <tr style=\"text-align: right;\">\n",
       "      <th></th>\n",
       "      <th>PassengerId</th>\n",
       "      <th>Survived</th>\n",
       "      <th>Pclass</th>\n",
       "      <th>SibSp</th>\n",
       "      <th>Parch</th>\n",
       "      <th>Fare</th>\n",
       "    </tr>\n",
       "  </thead>\n",
       "  <tbody>\n",
       "    <tr>\n",
       "      <th>count</th>\n",
       "      <td>889.000000</td>\n",
       "      <td>889.000000</td>\n",
       "      <td>889.000000</td>\n",
       "      <td>889.000000</td>\n",
       "      <td>889.000000</td>\n",
       "      <td>889.000000</td>\n",
       "    </tr>\n",
       "    <tr>\n",
       "      <th>mean</th>\n",
       "      <td>446.000000</td>\n",
       "      <td>0.382452</td>\n",
       "      <td>2.311586</td>\n",
       "      <td>0.524184</td>\n",
       "      <td>0.382452</td>\n",
       "      <td>32.096681</td>\n",
       "    </tr>\n",
       "    <tr>\n",
       "      <th>std</th>\n",
       "      <td>256.998173</td>\n",
       "      <td>0.486260</td>\n",
       "      <td>0.834700</td>\n",
       "      <td>1.103705</td>\n",
       "      <td>0.806761</td>\n",
       "      <td>49.697504</td>\n",
       "    </tr>\n",
       "    <tr>\n",
       "      <th>min</th>\n",
       "      <td>1.000000</td>\n",
       "      <td>0.000000</td>\n",
       "      <td>1.000000</td>\n",
       "      <td>0.000000</td>\n",
       "      <td>0.000000</td>\n",
       "      <td>0.000000</td>\n",
       "    </tr>\n",
       "    <tr>\n",
       "      <th>25%</th>\n",
       "      <td>224.000000</td>\n",
       "      <td>0.000000</td>\n",
       "      <td>2.000000</td>\n",
       "      <td>0.000000</td>\n",
       "      <td>0.000000</td>\n",
       "      <td>7.895800</td>\n",
       "    </tr>\n",
       "    <tr>\n",
       "      <th>50%</th>\n",
       "      <td>446.000000</td>\n",
       "      <td>0.000000</td>\n",
       "      <td>3.000000</td>\n",
       "      <td>0.000000</td>\n",
       "      <td>0.000000</td>\n",
       "      <td>14.454200</td>\n",
       "    </tr>\n",
       "    <tr>\n",
       "      <th>75%</th>\n",
       "      <td>668.000000</td>\n",
       "      <td>1.000000</td>\n",
       "      <td>3.000000</td>\n",
       "      <td>1.000000</td>\n",
       "      <td>0.000000</td>\n",
       "      <td>31.000000</td>\n",
       "    </tr>\n",
       "    <tr>\n",
       "      <th>max</th>\n",
       "      <td>891.000000</td>\n",
       "      <td>1.000000</td>\n",
       "      <td>3.000000</td>\n",
       "      <td>8.000000</td>\n",
       "      <td>6.000000</td>\n",
       "      <td>512.329200</td>\n",
       "    </tr>\n",
       "  </tbody>\n",
       "</table>\n",
       "</div>"
      ],
      "text/plain": [
       "       PassengerId    Survived      Pclass       SibSp       Parch        Fare\n",
       "count   889.000000  889.000000  889.000000  889.000000  889.000000  889.000000\n",
       "mean    446.000000    0.382452    2.311586    0.524184    0.382452   32.096681\n",
       "std     256.998173    0.486260    0.834700    1.103705    0.806761   49.697504\n",
       "min       1.000000    0.000000    1.000000    0.000000    0.000000    0.000000\n",
       "25%     224.000000    0.000000    2.000000    0.000000    0.000000    7.895800\n",
       "50%     446.000000    0.000000    3.000000    0.000000    0.000000   14.454200\n",
       "75%     668.000000    1.000000    3.000000    1.000000    0.000000   31.000000\n",
       "max     891.000000    1.000000    3.000000    8.000000    6.000000  512.329200"
      ]
     },
     "execution_count": 26,
     "metadata": {},
     "output_type": "execute_result"
    }
   ],
   "source": [
    "df.describe()"
   ]
  },
  {
   "cell_type": "code",
   "execution_count": 27,
   "id": "47741a5b",
   "metadata": {},
   "outputs": [],
   "source": [
    "import sklearn\n",
    "from sklearn import preprocessing\n",
    "le=preprocessing.LabelEncoder()\n",
    "\n",
    "df[\"Embarked\"]=le.fit_transform(df['Embarked'])\n",
    "\n"
   ]
  },
  {
   "cell_type": "code",
   "execution_count": 28,
   "id": "e330c078",
   "metadata": {},
   "outputs": [
    {
     "data": {
      "text/plain": [
       "array([2, 0, 1])"
      ]
     },
     "execution_count": 28,
     "metadata": {},
     "output_type": "execute_result"
    }
   ],
   "source": [
    "df[\"Embarked\"].unique()"
   ]
  },
  {
   "cell_type": "code",
   "execution_count": 29,
   "id": "52326156",
   "metadata": {},
   "outputs": [],
   "source": [
    "df.drop('Ticket',axis=1,inplace=True)"
   ]
  },
  {
   "cell_type": "code",
   "execution_count": 30,
   "id": "dea46a5b",
   "metadata": {},
   "outputs": [
    {
     "data": {
      "text/plain": [
       "Index(['PassengerId', 'Survived', 'Pclass', 'Age', 'SibSp', 'Parch', 'Fare',\n",
       "       'Embarked'],\n",
       "      dtype='object')"
      ]
     },
     "execution_count": 30,
     "metadata": {},
     "output_type": "execute_result"
    }
   ],
   "source": [
    "df.columns"
   ]
  },
  {
   "cell_type": "code",
   "execution_count": 31,
   "id": "30fd9d10",
   "metadata": {},
   "outputs": [
    {
     "data": {
      "text/html": [
       "<div>\n",
       "<style scoped>\n",
       "    .dataframe tbody tr th:only-of-type {\n",
       "        vertical-align: middle;\n",
       "    }\n",
       "\n",
       "    .dataframe tbody tr th {\n",
       "        vertical-align: top;\n",
       "    }\n",
       "\n",
       "    .dataframe thead th {\n",
       "        text-align: right;\n",
       "    }\n",
       "</style>\n",
       "<table border=\"1\" class=\"dataframe\">\n",
       "  <thead>\n",
       "    <tr style=\"text-align: right;\">\n",
       "      <th></th>\n",
       "      <th>PassengerId</th>\n",
       "      <th>Survived</th>\n",
       "      <th>Pclass</th>\n",
       "      <th>SibSp</th>\n",
       "      <th>Parch</th>\n",
       "      <th>Fare</th>\n",
       "      <th>Embarked</th>\n",
       "    </tr>\n",
       "  </thead>\n",
       "  <tbody>\n",
       "    <tr>\n",
       "      <th>PassengerId</th>\n",
       "      <td>1.000000</td>\n",
       "      <td>-0.005028</td>\n",
       "      <td>-0.035330</td>\n",
       "      <td>-0.057686</td>\n",
       "      <td>-0.001657</td>\n",
       "      <td>0.012703</td>\n",
       "      <td>0.013166</td>\n",
       "    </tr>\n",
       "    <tr>\n",
       "      <th>Survived</th>\n",
       "      <td>-0.005028</td>\n",
       "      <td>1.000000</td>\n",
       "      <td>-0.335549</td>\n",
       "      <td>-0.034040</td>\n",
       "      <td>0.083151</td>\n",
       "      <td>0.255290</td>\n",
       "      <td>-0.169718</td>\n",
       "    </tr>\n",
       "    <tr>\n",
       "      <th>Pclass</th>\n",
       "      <td>-0.035330</td>\n",
       "      <td>-0.335549</td>\n",
       "      <td>1.000000</td>\n",
       "      <td>0.081656</td>\n",
       "      <td>0.016824</td>\n",
       "      <td>-0.548193</td>\n",
       "      <td>0.164681</td>\n",
       "    </tr>\n",
       "    <tr>\n",
       "      <th>SibSp</th>\n",
       "      <td>-0.057686</td>\n",
       "      <td>-0.034040</td>\n",
       "      <td>0.081656</td>\n",
       "      <td>1.000000</td>\n",
       "      <td>0.414542</td>\n",
       "      <td>0.160887</td>\n",
       "      <td>0.068900</td>\n",
       "    </tr>\n",
       "    <tr>\n",
       "      <th>Parch</th>\n",
       "      <td>-0.001657</td>\n",
       "      <td>0.083151</td>\n",
       "      <td>0.016824</td>\n",
       "      <td>0.414542</td>\n",
       "      <td>1.000000</td>\n",
       "      <td>0.217532</td>\n",
       "      <td>0.040449</td>\n",
       "    </tr>\n",
       "    <tr>\n",
       "      <th>Fare</th>\n",
       "      <td>0.012703</td>\n",
       "      <td>0.255290</td>\n",
       "      <td>-0.548193</td>\n",
       "      <td>0.160887</td>\n",
       "      <td>0.217532</td>\n",
       "      <td>1.000000</td>\n",
       "      <td>-0.226311</td>\n",
       "    </tr>\n",
       "    <tr>\n",
       "      <th>Embarked</th>\n",
       "      <td>0.013166</td>\n",
       "      <td>-0.169718</td>\n",
       "      <td>0.164681</td>\n",
       "      <td>0.068900</td>\n",
       "      <td>0.040449</td>\n",
       "      <td>-0.226311</td>\n",
       "      <td>1.000000</td>\n",
       "    </tr>\n",
       "  </tbody>\n",
       "</table>\n",
       "</div>"
      ],
      "text/plain": [
       "             PassengerId  Survived    Pclass     SibSp     Parch      Fare  \\\n",
       "PassengerId     1.000000 -0.005028 -0.035330 -0.057686 -0.001657  0.012703   \n",
       "Survived       -0.005028  1.000000 -0.335549 -0.034040  0.083151  0.255290   \n",
       "Pclass         -0.035330 -0.335549  1.000000  0.081656  0.016824 -0.548193   \n",
       "SibSp          -0.057686 -0.034040  0.081656  1.000000  0.414542  0.160887   \n",
       "Parch          -0.001657  0.083151  0.016824  0.414542  1.000000  0.217532   \n",
       "Fare            0.012703  0.255290 -0.548193  0.160887  0.217532  1.000000   \n",
       "Embarked        0.013166 -0.169718  0.164681  0.068900  0.040449 -0.226311   \n",
       "\n",
       "             Embarked  \n",
       "PassengerId  0.013166  \n",
       "Survived    -0.169718  \n",
       "Pclass       0.164681  \n",
       "SibSp        0.068900  \n",
       "Parch        0.040449  \n",
       "Fare        -0.226311  \n",
       "Embarked     1.000000  "
      ]
     },
     "execution_count": 31,
     "metadata": {},
     "output_type": "execute_result"
    }
   ],
   "source": [
    "df.corr()"
   ]
  },
  {
   "cell_type": "code",
   "execution_count": 32,
   "id": "e775041f",
   "metadata": {},
   "outputs": [
    {
     "data": {
      "text/plain": [
       "<AxesSubplot:>"
      ]
     },
     "execution_count": 32,
     "metadata": {},
     "output_type": "execute_result"
    },
    {
     "data": {
      "image/png": "[encoded data removed]",
      "text/plain": [
       "<Figure size 640x480 with 2 Axes>"
      ]
     },
     "metadata": {},
     "output_type": "display_data"
    }
   ],
   "source": [
    "sns.heatmap(df.corr(),annot=True)"
   ]
  },
  {
   "cell_type": "code",
   "execution_count": 33,
   "id": "d8acc4c2",
   "metadata": {},
   "outputs": [
    {
     "data": {
      "text/plain": [
       "<AxesSubplot:xlabel='Pclass', ylabel='count'>"
      ]
     },
     "execution_count": 33,
     "metadata": {},
     "output_type": "execute_result"
    },
    {
     "data": {
      "image/png": "[encoded data removed]",
      "text/plain": [
       "<Figure size 640x480 with 1 Axes>"
      ]
     },
     "metadata": {},
     "output_type": "display_data"
    }
   ],
   "source": [
    "sns.countplot(x='Pclass',data=df)"
   ]
  },
  {
   "cell_type": "code",
   "execution_count": 34,
   "id": "a0409144",
   "metadata": {},
   "outputs": [
    {
     "data": {
      "text/plain": [
       "<AxesSubplot:xlabel='Fare', ylabel='count'>"
      ]
     },
     "execution_count": 34,
     "metadata": {},
     "output_type": "execute_result"
    },
    {
     "data": {
      "image/png": "[encoded data removed]",
      "text/plain": [
       "<Figure size 640x480 with 1 Axes>"
      ]
     },
     "metadata": {},
     "output_type": "display_data"
    }
   ],
   "source": [
    "sns.countplot(x='Fare',data=df)"
   ]
  },
  {
   "cell_type": "code",
   "execution_count": 35,
   "id": "15ecd021",
   "metadata": {},
   "outputs": [
    {
     "data": {
      "text/plain": [
       "<AxesSubplot:xlabel='Parch', ylabel='count'>"
      ]
     },
     "execution_count": 35,
     "metadata": {},
     "output_type": "execute_result"
    },
    {
     "data": {
      "image/png": "[encoded data removed]",
      "text/plain": [
       "<Figure size 640x480 with 1 Axes>"
      ]
     },
     "metadata": {},
     "output_type": "display_data"
    }
   ],
   "source": [
    "sns.countplot(x='Parch',data=df)"
   ]
  },
  {
   "cell_type": "code",
   "execution_count": 36,
   "id": "d4e8b70f",
   "metadata": {},
   "outputs": [
    {
     "data": {
      "text/plain": [
       "<AxesSubplot:xlabel='Pclass'>"
      ]
     },
     "execution_count": 36,
     "metadata": {},
     "output_type": "execute_result"
    },
    {
     "data": {
      "image/png": "[encoded data removed]",
      "text/plain": [
       "<Figure size 640x480 with 1 Axes>"
      ]
     },
     "metadata": {},
     "output_type": "display_data"
    }
   ],
   "source": [
    "sns.boxplot('Pclass',data=df)"
   ]
  },
  {
   "cell_type": "code",
   "execution_count": 37,
   "id": "4c3acd79",
   "metadata": {},
   "outputs": [
    {
     "data": {
      "text/plain": [
       "PassengerId       AxesSubplot(0.125,0.53;0.110714x0.35)\n",
       "Survived       AxesSubplot(0.257857,0.53;0.110714x0.35)\n",
       "Pclass         AxesSubplot(0.390714,0.53;0.110714x0.35)\n",
       "SibSp          AxesSubplot(0.523571,0.53;0.110714x0.35)\n",
       "Parch          AxesSubplot(0.656429,0.53;0.110714x0.35)\n",
       "Fare           AxesSubplot(0.789286,0.53;0.110714x0.35)\n",
       "Embarked          AxesSubplot(0.125,0.11;0.110714x0.35)\n",
       "dtype: object"
      ]
     },
     "execution_count": 37,
     "metadata": {},
     "output_type": "execute_result"
    },
    {
     "data": {
      "image/png": "[encoded data removed]",
      "text/plain": [
       "<Figure size 1000x1000 with 12 Axes>"
      ]
     },
     "metadata": {},
     "output_type": "display_data"
    }
   ],
   "source": [
    "df.plot(kind='box',subplots=True,layout=(2,6),figsize=(10,10))"
   ]
  },
  {
   "cell_type": "code",
   "execution_count": 38,
   "id": "3f1bb8cd",
   "metadata": {},
   "outputs": [
    {
     "data": {
      "text/plain": [
       "PassengerId    0.000000\n",
       "Survived       0.484568\n",
       "Pclass        -0.636998\n",
       "Age            0.432142\n",
       "SibSp          3.691058\n",
       "Parch          2.745160\n",
       "Fare           4.801440\n",
       "Embarked      -1.261367\n",
       "dtype: float64"
      ]
     },
     "execution_count": 38,
     "metadata": {},
     "output_type": "execute_result"
    }
   ],
   "source": [
    "df.skew()"
   ]
  },
  {
   "cell_type": "code",
   "execution_count": 39,
   "id": "9d638bef",
   "metadata": {},
   "outputs": [],
   "source": [
    "df['Fare']=np.cbrt(df['Fare'])"
   ]
  },
  {
   "cell_type": "code",
   "execution_count": 40,
   "id": "8d6c9350",
   "metadata": {},
   "outputs": [],
   "source": [
    "df['SibSp']=np.cbrt(df['SibSp'])"
   ]
  },
  {
   "cell_type": "code",
   "execution_count": 41,
   "id": "3cd49eec",
   "metadata": {},
   "outputs": [],
   "source": [
    "df['Parch']=np.cbrt(df['Parch'])"
   ]
  },
  {
   "cell_type": "code",
   "execution_count": 42,
   "id": "51f2f833",
   "metadata": {},
   "outputs": [
    {
     "data": {
      "text/plain": [
       "PassengerId    0.000000\n",
       "Survived       0.484568\n",
       "Pclass        -0.636998\n",
       "Age            0.432142\n",
       "SibSp          1.029610\n",
       "Parch          1.344861\n",
       "Fare           1.240647\n",
       "Embarked      -1.261367\n",
       "dtype: float64"
      ]
     },
     "execution_count": 42,
     "metadata": {},
     "output_type": "execute_result"
    }
   ],
   "source": [
    "df.skew()"
   ]
  },
  {
   "cell_type": "code",
   "execution_count": 43,
   "id": "12220341",
   "metadata": {},
   "outputs": [],
   "source": [
    "from scipy.stats import zscore\n",
    "dfn=df.iloc[:,4:7]"
   ]
  },
  {
   "cell_type": "code",
   "execution_count": 44,
   "id": "322839be",
   "metadata": {},
   "outputs": [
    {
     "data": {
      "text/html": [
       "<div>\n",
       "<style scoped>\n",
       "    .dataframe tbody tr th:only-of-type {\n",
       "        vertical-align: middle;\n",
       "    }\n",
       "\n",
       "    .dataframe tbody tr th {\n",
       "        vertical-align: top;\n",
       "    }\n",
       "\n",
       "    .dataframe thead th {\n",
       "        text-align: right;\n",
       "    }\n",
       "</style>\n",
       "<table border=\"1\" class=\"dataframe\">\n",
       "  <thead>\n",
       "    <tr style=\"text-align: right;\">\n",
       "      <th></th>\n",
       "      <th>SibSp</th>\n",
       "      <th>Parch</th>\n",
       "      <th>Fare</th>\n",
       "    </tr>\n",
       "    <tr>\n",
       "      <th>index</th>\n",
       "      <th></th>\n",
       "      <th></th>\n",
       "      <th></th>\n",
       "    </tr>\n",
       "  </thead>\n",
       "  <tbody>\n",
       "    <tr>\n",
       "      <th>0</th>\n",
       "      <td>1.185287</td>\n",
       "      <td>0.552463</td>\n",
       "      <td>0.772405</td>\n",
       "    </tr>\n",
       "    <tr>\n",
       "      <th>1</th>\n",
       "      <td>1.185287</td>\n",
       "      <td>0.552463</td>\n",
       "      <td>1.292708</td>\n",
       "    </tr>\n",
       "    <tr>\n",
       "      <th>2</th>\n",
       "      <td>0.661650</td>\n",
       "      <td>0.552463</td>\n",
       "      <td>0.717956</td>\n",
       "    </tr>\n",
       "    <tr>\n",
       "      <th>3</th>\n",
       "      <td>1.185287</td>\n",
       "      <td>0.552463</td>\n",
       "      <td>0.930597</td>\n",
       "    </tr>\n",
       "    <tr>\n",
       "      <th>4</th>\n",
       "      <td>0.661650</td>\n",
       "      <td>0.552463</td>\n",
       "      <td>0.708216</td>\n",
       "    </tr>\n",
       "    <tr>\n",
       "      <th>...</th>\n",
       "      <td>...</td>\n",
       "      <td>...</td>\n",
       "      <td>...</td>\n",
       "    </tr>\n",
       "    <tr>\n",
       "      <th>886</th>\n",
       "      <td>0.661650</td>\n",
       "      <td>0.552463</td>\n",
       "      <td>0.383929</td>\n",
       "    </tr>\n",
       "    <tr>\n",
       "      <th>887</th>\n",
       "      <td>0.661650</td>\n",
       "      <td>0.552463</td>\n",
       "      <td>0.322131</td>\n",
       "    </tr>\n",
       "    <tr>\n",
       "      <th>888</th>\n",
       "      <td>1.185287</td>\n",
       "      <td>1.996949</td>\n",
       "      <td>0.093342</td>\n",
       "    </tr>\n",
       "    <tr>\n",
       "      <th>889</th>\n",
       "      <td>0.661650</td>\n",
       "      <td>0.552463</td>\n",
       "      <td>0.322131</td>\n",
       "    </tr>\n",
       "    <tr>\n",
       "      <th>890</th>\n",
       "      <td>0.661650</td>\n",
       "      <td>0.552463</td>\n",
       "      <td>0.731766</td>\n",
       "    </tr>\n",
       "  </tbody>\n",
       "</table>\n",
       "<p>889 rows × 3 columns</p>\n",
       "</div>"
      ],
      "text/plain": [
       "          SibSp     Parch      Fare\n",
       "index                              \n",
       "0      1.185287  0.552463  0.772405\n",
       "1      1.185287  0.552463  1.292708\n",
       "2      0.661650  0.552463  0.717956\n",
       "3      1.185287  0.552463  0.930597\n",
       "4      0.661650  0.552463  0.708216\n",
       "...         ...       ...       ...\n",
       "886    0.661650  0.552463  0.383929\n",
       "887    0.661650  0.552463  0.322131\n",
       "888    1.185287  1.996949  0.093342\n",
       "889    0.661650  0.552463  0.322131\n",
       "890    0.661650  0.552463  0.731766\n",
       "\n",
       "[889 rows x 3 columns]"
      ]
     },
     "execution_count": 44,
     "metadata": {},
     "output_type": "execute_result"
    }
   ],
   "source": [
    "z=np.abs(zscore(dfn))\n",
    "z"
   ]
  },
  {
   "cell_type": "code",
   "execution_count": 45,
   "id": "60d20c01",
   "metadata": {},
   "outputs": [],
   "source": [
    "threshold=3\n",
    "dfn=dfn[(z<3).all(axis=1)]"
   ]
  },
  {
   "cell_type": "code",
   "execution_count": 46,
   "id": "25c1ce7f",
   "metadata": {},
   "outputs": [
    {
     "data": {
      "text/plain": [
       "(array([ 27,  87, 117, 158, 179, 200, 257, 298, 310, 323, 340, 379, 437,\n",
       "        526, 556, 677, 678, 699, 715, 736, 741, 791, 844, 861], dtype=int64),\n",
       " array([2, 2, 2, 0, 0, 0, 2, 2, 2, 0, 2, 2, 2, 2, 2, 1, 2, 2, 2, 2, 2, 0,\n",
       "        0, 0], dtype=int64))"
      ]
     },
     "execution_count": 46,
     "metadata": {},
     "output_type": "execute_result"
    }
   ],
   "source": [
    "np.where(z>3)\n"
   ]
  },
  {
   "cell_type": "code",
   "execution_count": 47,
   "id": "16fa83b2",
   "metadata": {},
   "outputs": [],
   "source": [
    "df.drop([ 27,  87, 117, 158, 179, 200, 257, 298, 310, 323, 340, 379, 437,\n",
    "        526, 556, 677, 678, 699, 715, 736, 741, 791, 844, 861],axis=0,inplace=True)"
   ]
  },
  {
   "cell_type": "code",
   "execution_count": 48,
   "id": "15a48e5a",
   "metadata": {},
   "outputs": [
    {
     "data": {
      "text/plain": [
       "(865, 8)"
      ]
     },
     "execution_count": 48,
     "metadata": {},
     "output_type": "execute_result"
    }
   ],
   "source": [
    "df.shape"
   ]
  },
  {
   "cell_type": "code",
   "execution_count": 49,
   "id": "96340396",
   "metadata": {},
   "outputs": [
    {
     "data": {
      "text/html": [
       "<div>\n",
       "<style scoped>\n",
       "    .dataframe tbody tr th:only-of-type {\n",
       "        vertical-align: middle;\n",
       "    }\n",
       "\n",
       "    .dataframe tbody tr th {\n",
       "        vertical-align: top;\n",
       "    }\n",
       "\n",
       "    .dataframe thead th {\n",
       "        text-align: right;\n",
       "    }\n",
       "</style>\n",
       "<table border=\"1\" class=\"dataframe\">\n",
       "  <thead>\n",
       "    <tr style=\"text-align: right;\">\n",
       "      <th></th>\n",
       "      <th>PassengerId</th>\n",
       "      <th>Survived</th>\n",
       "      <th>Pclass</th>\n",
       "      <th>Age</th>\n",
       "      <th>SibSp</th>\n",
       "      <th>Parch</th>\n",
       "      <th>Fare</th>\n",
       "      <th>Embarked</th>\n",
       "    </tr>\n",
       "    <tr>\n",
       "      <th>index</th>\n",
       "      <th></th>\n",
       "      <th></th>\n",
       "      <th></th>\n",
       "      <th></th>\n",
       "      <th></th>\n",
       "      <th></th>\n",
       "      <th></th>\n",
       "      <th></th>\n",
       "    </tr>\n",
       "  </thead>\n",
       "  <tbody>\n",
       "    <tr>\n",
       "      <th>0</th>\n",
       "      <td>1</td>\n",
       "      <td>0</td>\n",
       "      <td>3</td>\n",
       "      <td>22.0</td>\n",
       "      <td>1.0</td>\n",
       "      <td>0.0</td>\n",
       "      <td>1.935438</td>\n",
       "      <td>2</td>\n",
       "    </tr>\n",
       "    <tr>\n",
       "      <th>1</th>\n",
       "      <td>2</td>\n",
       "      <td>1</td>\n",
       "      <td>1</td>\n",
       "      <td>38.0</td>\n",
       "      <td>1.0</td>\n",
       "      <td>0.0</td>\n",
       "      <td>4.146318</td>\n",
       "      <td>0</td>\n",
       "    </tr>\n",
       "    <tr>\n",
       "      <th>2</th>\n",
       "      <td>3</td>\n",
       "      <td>1</td>\n",
       "      <td>3</td>\n",
       "      <td>26.0</td>\n",
       "      <td>0.0</td>\n",
       "      <td>0.0</td>\n",
       "      <td>1.993730</td>\n",
       "      <td>2</td>\n",
       "    </tr>\n",
       "    <tr>\n",
       "      <th>3</th>\n",
       "      <td>4</td>\n",
       "      <td>1</td>\n",
       "      <td>1</td>\n",
       "      <td>35.0</td>\n",
       "      <td>1.0</td>\n",
       "      <td>0.0</td>\n",
       "      <td>3.758647</td>\n",
       "      <td>2</td>\n",
       "    </tr>\n",
       "    <tr>\n",
       "      <th>4</th>\n",
       "      <td>5</td>\n",
       "      <td>0</td>\n",
       "      <td>3</td>\n",
       "      <td>35.0</td>\n",
       "      <td>0.0</td>\n",
       "      <td>0.0</td>\n",
       "      <td>2.004158</td>\n",
       "      <td>2</td>\n",
       "    </tr>\n",
       "  </tbody>\n",
       "</table>\n",
       "</div>"
      ],
      "text/plain": [
       "       PassengerId  Survived  Pclass   Age  SibSp  Parch      Fare  Embarked\n",
       "index                                                                       \n",
       "0                1         0       3  22.0    1.0    0.0  1.935438         2\n",
       "1                2         1       1  38.0    1.0    0.0  4.146318         0\n",
       "2                3         1       3  26.0    0.0    0.0  1.993730         2\n",
       "3                4         1       1  35.0    1.0    0.0  3.758647         2\n",
       "4                5         0       3  35.0    0.0    0.0  2.004158         2"
      ]
     },
     "execution_count": 49,
     "metadata": {},
     "output_type": "execute_result"
    }
   ],
   "source": [
    "df.head()"
   ]
  },
  {
   "cell_type": "code",
   "execution_count": 50,
   "id": "316f336d",
   "metadata": {},
   "outputs": [],
   "source": [
    "y=df['Survived']\n",
    "x=df.drop('Survived',axis=1)"
   ]
  },
  {
   "cell_type": "code",
   "execution_count": 51,
   "id": "803ec2b3",
   "metadata": {},
   "outputs": [
    {
     "data": {
      "text/html": [
       "<div>\n",
       "<style scoped>\n",
       "    .dataframe tbody tr th:only-of-type {\n",
       "        vertical-align: middle;\n",
       "    }\n",
       "\n",
       "    .dataframe tbody tr th {\n",
       "        vertical-align: top;\n",
       "    }\n",
       "\n",
       "    .dataframe thead th {\n",
       "        text-align: right;\n",
       "    }\n",
       "</style>\n",
       "<table border=\"1\" class=\"dataframe\">\n",
       "  <thead>\n",
       "    <tr style=\"text-align: right;\">\n",
       "      <th></th>\n",
       "      <th>PassengerId</th>\n",
       "      <th>Pclass</th>\n",
       "      <th>Age</th>\n",
       "      <th>SibSp</th>\n",
       "      <th>Parch</th>\n",
       "      <th>Fare</th>\n",
       "      <th>Embarked</th>\n",
       "    </tr>\n",
       "    <tr>\n",
       "      <th>index</th>\n",
       "      <th></th>\n",
       "      <th></th>\n",
       "      <th></th>\n",
       "      <th></th>\n",
       "      <th></th>\n",
       "      <th></th>\n",
       "      <th></th>\n",
       "    </tr>\n",
       "  </thead>\n",
       "  <tbody>\n",
       "    <tr>\n",
       "      <th>0</th>\n",
       "      <td>1</td>\n",
       "      <td>3</td>\n",
       "      <td>22.0</td>\n",
       "      <td>1.0</td>\n",
       "      <td>0.0</td>\n",
       "      <td>1.935438</td>\n",
       "      <td>2</td>\n",
       "    </tr>\n",
       "    <tr>\n",
       "      <th>1</th>\n",
       "      <td>2</td>\n",
       "      <td>1</td>\n",
       "      <td>38.0</td>\n",
       "      <td>1.0</td>\n",
       "      <td>0.0</td>\n",
       "      <td>4.146318</td>\n",
       "      <td>0</td>\n",
       "    </tr>\n",
       "    <tr>\n",
       "      <th>2</th>\n",
       "      <td>3</td>\n",
       "      <td>3</td>\n",
       "      <td>26.0</td>\n",
       "      <td>0.0</td>\n",
       "      <td>0.0</td>\n",
       "      <td>1.993730</td>\n",
       "      <td>2</td>\n",
       "    </tr>\n",
       "    <tr>\n",
       "      <th>3</th>\n",
       "      <td>4</td>\n",
       "      <td>1</td>\n",
       "      <td>35.0</td>\n",
       "      <td>1.0</td>\n",
       "      <td>0.0</td>\n",
       "      <td>3.758647</td>\n",
       "      <td>2</td>\n",
       "    </tr>\n",
       "    <tr>\n",
       "      <th>4</th>\n",
       "      <td>5</td>\n",
       "      <td>3</td>\n",
       "      <td>35.0</td>\n",
       "      <td>0.0</td>\n",
       "      <td>0.0</td>\n",
       "      <td>2.004158</td>\n",
       "      <td>2</td>\n",
       "    </tr>\n",
       "  </tbody>\n",
       "</table>\n",
       "</div>"
      ],
      "text/plain": [
       "       PassengerId  Pclass   Age  SibSp  Parch      Fare  Embarked\n",
       "index                                                             \n",
       "0                1       3  22.0    1.0    0.0  1.935438         2\n",
       "1                2       1  38.0    1.0    0.0  4.146318         0\n",
       "2                3       3  26.0    0.0    0.0  1.993730         2\n",
       "3                4       1  35.0    1.0    0.0  3.758647         2\n",
       "4                5       3  35.0    0.0    0.0  2.004158         2"
      ]
     },
     "execution_count": 51,
     "metadata": {},
     "output_type": "execute_result"
    }
   ],
   "source": [
    "x.head()"
   ]
  },
  {
   "cell_type": "code",
   "execution_count": 52,
   "id": "76aead1e",
   "metadata": {},
   "outputs": [
    {
     "data": {
      "text/html": [
       "<div>\n",
       "<style scoped>\n",
       "    .dataframe tbody tr th:only-of-type {\n",
       "        vertical-align: middle;\n",
       "    }\n",
       "\n",
       "    .dataframe tbody tr th {\n",
       "        vertical-align: top;\n",
       "    }\n",
       "\n",
       "    .dataframe thead th {\n",
       "        text-align: right;\n",
       "    }\n",
       "</style>\n",
       "<table border=\"1\" class=\"dataframe\">\n",
       "  <thead>\n",
       "    <tr style=\"text-align: right;\">\n",
       "      <th></th>\n",
       "      <th>PassengerId</th>\n",
       "      <th>Pclass</th>\n",
       "      <th>Age</th>\n",
       "      <th>SibSp</th>\n",
       "      <th>Parch</th>\n",
       "      <th>Fare</th>\n",
       "      <th>Embarked</th>\n",
       "    </tr>\n",
       "  </thead>\n",
       "  <tbody>\n",
       "    <tr>\n",
       "      <th>0</th>\n",
       "      <td>-1.731876</td>\n",
       "      <td>0.821446</td>\n",
       "      <td>-0.591658</td>\n",
       "      <td>1.189895</td>\n",
       "      <td>-0.552620</td>\n",
       "      <td>-0.773497</td>\n",
       "      <td>0.594263</td>\n",
       "    </tr>\n",
       "    <tr>\n",
       "      <th>1</th>\n",
       "      <td>-1.727982</td>\n",
       "      <td>-1.575016</td>\n",
       "      <td>0.639660</td>\n",
       "      <td>1.189895</td>\n",
       "      <td>-0.552620</td>\n",
       "      <td>1.299551</td>\n",
       "      <td>-1.919369</td>\n",
       "    </tr>\n",
       "    <tr>\n",
       "      <th>2</th>\n",
       "      <td>-1.724087</td>\n",
       "      <td>0.821446</td>\n",
       "      <td>-0.283828</td>\n",
       "      <td>-0.657220</td>\n",
       "      <td>-0.552620</td>\n",
       "      <td>-0.718839</td>\n",
       "      <td>0.594263</td>\n",
       "    </tr>\n",
       "    <tr>\n",
       "      <th>3</th>\n",
       "      <td>-1.720193</td>\n",
       "      <td>-1.575016</td>\n",
       "      <td>0.408788</td>\n",
       "      <td>1.189895</td>\n",
       "      <td>-0.552620</td>\n",
       "      <td>0.936048</td>\n",
       "      <td>0.594263</td>\n",
       "    </tr>\n",
       "    <tr>\n",
       "      <th>4</th>\n",
       "      <td>-1.716298</td>\n",
       "      <td>0.821446</td>\n",
       "      <td>0.408788</td>\n",
       "      <td>-0.657220</td>\n",
       "      <td>-0.552620</td>\n",
       "      <td>-0.709061</td>\n",
       "      <td>0.594263</td>\n",
       "    </tr>\n",
       "    <tr>\n",
       "      <th>...</th>\n",
       "      <td>...</td>\n",
       "      <td>...</td>\n",
       "      <td>...</td>\n",
       "      <td>...</td>\n",
       "      <td>...</td>\n",
       "      <td>...</td>\n",
       "      <td>...</td>\n",
       "    </tr>\n",
       "    <tr>\n",
       "      <th>860</th>\n",
       "      <td>1.718603</td>\n",
       "      <td>-0.376785</td>\n",
       "      <td>-0.206871</td>\n",
       "      <td>-0.657220</td>\n",
       "      <td>-0.552620</td>\n",
       "      <td>-0.383529</td>\n",
       "      <td>0.594263</td>\n",
       "    </tr>\n",
       "    <tr>\n",
       "      <th>861</th>\n",
       "      <td>1.722498</td>\n",
       "      <td>-1.575016</td>\n",
       "      <td>-0.822530</td>\n",
       "      <td>-0.657220</td>\n",
       "      <td>-0.552620</td>\n",
       "      <td>0.325245</td>\n",
       "      <td>0.594263</td>\n",
       "    </tr>\n",
       "    <tr>\n",
       "      <th>862</th>\n",
       "      <td>1.726392</td>\n",
       "      <td>0.821446</td>\n",
       "      <td>0.000144</td>\n",
       "      <td>1.189895</td>\n",
       "      <td>2.012822</td>\n",
       "      <td>0.095577</td>\n",
       "      <td>0.594263</td>\n",
       "    </tr>\n",
       "    <tr>\n",
       "      <th>863</th>\n",
       "      <td>1.730287</td>\n",
       "      <td>-1.575016</td>\n",
       "      <td>-0.283828</td>\n",
       "      <td>-0.657220</td>\n",
       "      <td>-0.552620</td>\n",
       "      <td>0.325245</td>\n",
       "      <td>-1.919369</td>\n",
       "    </tr>\n",
       "    <tr>\n",
       "      <th>864</th>\n",
       "      <td>1.734181</td>\n",
       "      <td>0.821446</td>\n",
       "      <td>0.177916</td>\n",
       "      <td>-0.657220</td>\n",
       "      <td>-0.552620</td>\n",
       "      <td>-0.732702</td>\n",
       "      <td>-0.662553</td>\n",
       "    </tr>\n",
       "  </tbody>\n",
       "</table>\n",
       "<p>865 rows × 7 columns</p>\n",
       "</div>"
      ],
      "text/plain": [
       "     PassengerId    Pclass       Age     SibSp     Parch      Fare  Embarked\n",
       "0      -1.731876  0.821446 -0.591658  1.189895 -0.552620 -0.773497  0.594263\n",
       "1      -1.727982 -1.575016  0.639660  1.189895 -0.552620  1.299551 -1.919369\n",
       "2      -1.724087  0.821446 -0.283828 -0.657220 -0.552620 -0.718839  0.594263\n",
       "3      -1.720193 -1.575016  0.408788  1.189895 -0.552620  0.936048  0.594263\n",
       "4      -1.716298  0.821446  0.408788 -0.657220 -0.552620 -0.709061  0.594263\n",
       "..           ...       ...       ...       ...       ...       ...       ...\n",
       "860     1.718603 -0.376785 -0.206871 -0.657220 -0.552620 -0.383529  0.594263\n",
       "861     1.722498 -1.575016 -0.822530 -0.657220 -0.552620  0.325245  0.594263\n",
       "862     1.726392  0.821446  0.000144  1.189895  2.012822  0.095577  0.594263\n",
       "863     1.730287 -1.575016 -0.283828 -0.657220 -0.552620  0.325245 -1.919369\n",
       "864     1.734181  0.821446  0.177916 -0.657220 -0.552620 -0.732702 -0.662553\n",
       "\n",
       "[865 rows x 7 columns]"
      ]
     },
     "execution_count": 52,
     "metadata": {},
     "output_type": "execute_result"
    }
   ],
   "source": [
    "from sklearn.preprocessing import StandardScaler\n",
    "scaler=StandardScaler()\n",
    "x=pd.DataFrame(scaler.fit_transform(x),columns=x.columns)\n",
    "x"
   ]
  },
  {
   "cell_type": "code",
   "execution_count": 53,
   "id": "aa08b33d",
   "metadata": {},
   "outputs": [
    {
     "data": {
      "text/plain": [
       "PassengerId  Pclass     Age        SibSp      Parch      Fare       Embarked \n",
       "-1.731876     0.821446  -0.591658   1.189895  -0.552620  -0.773497   0.594263    1\n",
       " 0.546375    -1.575016  -0.899487  -0.657220   2.012822   1.446068   0.594263    1\n",
       " 0.499642     0.821446   0.000144  -0.657220  -0.552620  -0.732702  -0.662553    1\n",
       " 0.503536     0.821446  -1.053402  -0.657220  -0.552620  -0.709061   0.594263    1\n",
       " 0.507431     0.821446  -0.822530  -0.657220  -0.552620  -0.301798   0.594263    1\n",
       "                                                                                ..\n",
       "-0.540175    -1.575016   0.000144  -0.657220  -0.552620   1.916429  -1.919369    1\n",
       "-0.536281    -1.575016  -0.976445   1.189895  -0.552620   1.889410  -1.919369    1\n",
       "-0.532387    -0.376785   0.024001   1.189895  -0.552620   0.116397  -1.919369    1\n",
       "-0.528492    -1.575016   0.024001  -0.657220  -0.552620   1.018806  -1.919369    1\n",
       " 1.734181     0.821446   0.177916  -0.657220  -0.552620  -0.732702  -0.662553    1\n",
       "Length: 1068, dtype: int64"
      ]
     },
     "execution_count": 53,
     "metadata": {},
     "output_type": "execute_result"
    }
   ],
   "source": [
    "from imblearn import under_sampling, over_sampling\n",
    "from imblearn.over_sampling import SMOTE\n",
    "\n",
    "sm=SMOTE()\n",
    "trainx,trainy=sm.fit_resample(x,y)\n",
    "trainy.value_counts()\n",
    "trainx.value_counts()"
   ]
  },
  {
   "cell_type": "code",
   "execution_count": 54,
   "id": "8492ae06",
   "metadata": {},
   "outputs": [
    {
     "data": {
      "text/plain": [
       "(1068, 7)"
      ]
     },
     "execution_count": 54,
     "metadata": {},
     "output_type": "execute_result"
    }
   ],
   "source": [
    "trainx.shape"
   ]
  },
  {
   "cell_type": "code",
   "execution_count": 55,
   "id": "dadd3800",
   "metadata": {},
   "outputs": [
    {
     "data": {
      "text/plain": [
       "(1068,)"
      ]
     },
     "execution_count": 55,
     "metadata": {},
     "output_type": "execute_result"
    }
   ],
   "source": [
    "trainy.shape"
   ]
  },
  {
   "cell_type": "code",
   "execution_count": 56,
   "id": "7d947e4e",
   "metadata": {},
   "outputs": [],
   "source": [
    "from sklearn.model_selection import train_test_split\n",
    "from sklearn.ensemble import RandomForestClassifier\n",
    "from sklearn.metrics import accuracy_score\n",
    "from sklearn.metrics import classification_report,confusion_matrix,roc_curve,accuracy_score"
   ]
  },
  {
   "cell_type": "code",
   "execution_count": 57,
   "id": "2a272604",
   "metadata": {},
   "outputs": [
    {
     "name": "stdout",
     "output_type": "stream",
     "text": [
      "Best accuracy is 0.8255451713395638 at random_state 79\n",
      "[[123  39]\n",
      " [ 23 136]]\n",
      "              precision    recall  f1-score   support\n",
      "\n",
      "           0       0.84      0.76      0.80       162\n",
      "           1       0.78      0.86      0.81       159\n",
      "\n",
      "    accuracy                           0.81       321\n",
      "   macro avg       0.81      0.81      0.81       321\n",
      "weighted avg       0.81      0.81      0.81       321\n",
      "\n"
     ]
    }
   ],
   "source": [
    "maxaccu=0\n",
    "maxrs=0\n",
    "for i in range(1,200):\n",
    "    x_train,x_test,y_train,y_test=train_test_split(trainx,trainy,test_size=0.30,random_state=i)\n",
    "    rfr=RandomForestClassifier()\n",
    "    rfr.fit(x_train,y_train)\n",
    "    pred=rfr.predict(x_test)\n",
    "    acc=accuracy_score(y_test,pred)\n",
    "    if acc>maxaccu:\n",
    "        maxaccu=acc\n",
    "        maxrs=i\n",
    "print('Best accuracy is',maxaccu ,\"at random_state\",maxrs)\n",
    "print(confusion_matrix(y_test,pred))\n",
    "print(classification_report(y_test,pred))"
   ]
  },
  {
   "cell_type": "code",
   "execution_count": null,
   "id": "65c27c69",
   "metadata": {},
   "outputs": [],
   "source": []
  },
  {
   "cell_type": "code",
   "execution_count": 58,
   "id": "8dece34e",
   "metadata": {},
   "outputs": [],
   "source": [
    "x_train,x_test,y_train,y_test=train_test_split(trainx,trainy,test_size=.30,random_state=maxrs)\n",
    "from sklearn.linear_model import LogisticRegression\n",
    "from sklearn.ensemble import ExtraTreesClassifier\n",
    "from sklearn.ensemble import GradientBoostingClassifier,AdaBoostClassifier,BaggingClassifier\n",
    "from sklearn.metrics import classification_report,confusion_matrix,roc_curve,accuracy_score\n",
    "from sklearn.model_selection import cross_val_score"
   ]
  },
  {
   "cell_type": "code",
   "execution_count": 59,
   "id": "304f753c",
   "metadata": {},
   "outputs": [
    {
     "name": "stdout",
     "output_type": "stream",
     "text": [
      "Best accuracy is 0.8068535825545171 at random_state 199\n",
      "[[123  39]\n",
      " [ 23 136]]\n",
      "              precision    recall  f1-score   support\n",
      "\n",
      "           0       0.84      0.76      0.80       162\n",
      "           1       0.78      0.86      0.81       159\n",
      "\n",
      "    accuracy                           0.81       321\n",
      "   macro avg       0.81      0.81      0.81       321\n",
      "weighted avg       0.81      0.81      0.81       321\n",
      "\n"
     ]
    }
   ],
   "source": [
    "maxaccu=0\n",
    "maxrs=0\n",
    "for i in range(1,200):\n",
    "    x_train,x_test,y_train,y_test=train_test_split(trainx,trainy,test_size=0.30,random_state=i)\n",
    "    gbc=GradientBoostingClassifier()\n",
    "    gbc.fit(x_train,y_train)\n",
    "    pred_gbc=gbc.predict(x_test)\n",
    "    acc=accuracy_score(y_test,pred)\n",
    "    if acc>maxaccu:\n",
    "        maxaccu=acc\n",
    "        maxrs=i\n",
    "print('Best accuracy is',maxaccu ,\"at random_state\",maxrs)\n",
    "print(confusion_matrix(y_test,pred))\n",
    "print(classification_report(y_test,pred))"
   ]
  },
  {
   "cell_type": "code",
   "execution_count": 60,
   "id": "e197f952",
   "metadata": {},
   "outputs": [
    {
     "name": "stdout",
     "output_type": "stream",
     "text": [
      "0.6853582554517134\n",
      "[[122  40]\n",
      " [ 61  98]]\n",
      "              precision    recall  f1-score   support\n",
      "\n",
      "           0       0.67      0.75      0.71       162\n",
      "           1       0.71      0.62      0.66       159\n",
      "\n",
      "    accuracy                           0.69       321\n",
      "   macro avg       0.69      0.68      0.68       321\n",
      "weighted avg       0.69      0.69      0.68       321\n",
      "\n"
     ]
    }
   ],
   "source": [
    "lr=LogisticRegression()\n",
    "lr.fit(x_train,y_train)\n",
    "predlr=lr.predict(x_test)\n",
    "print(accuracy_score(y_test,predlr))\n",
    "print(confusion_matrix(y_test,predlr))\n",
    "print(classification_report(y_test,predlr))"
   ]
  },
  {
   "cell_type": "code",
   "execution_count": 61,
   "id": "7f38a1d0",
   "metadata": {},
   "outputs": [
    {
     "name": "stdout",
     "output_type": "stream",
     "text": [
      "0.6947040498442367\n",
      "[[110  52]\n",
      " [ 46 113]]\n",
      "              precision    recall  f1-score   support\n",
      "\n",
      "           0       0.71      0.68      0.69       162\n",
      "           1       0.68      0.71      0.70       159\n",
      "\n",
      "    accuracy                           0.69       321\n",
      "   macro avg       0.69      0.69      0.69       321\n",
      "weighted avg       0.70      0.69      0.69       321\n",
      "\n"
     ]
    }
   ],
   "source": [
    "ad=AdaBoostClassifier()\n",
    "ad.fit(x_train,y_train)\n",
    "predad=ad.predict(x_test)\n",
    "print(accuracy_score(y_test,predad))\n",
    "print(confusion_matrix(y_test,predad))\n",
    "print(classification_report(y_test,predad))"
   ]
  },
  {
   "cell_type": "code",
   "execution_count": 62,
   "id": "5bd5d713",
   "metadata": {},
   "outputs": [
    {
     "name": "stdout",
     "output_type": "stream",
     "text": [
      "0.8037383177570093\n",
      "[[121  41]\n",
      " [ 22 137]]\n",
      "              precision    recall  f1-score   support\n",
      "\n",
      "           0       0.85      0.75      0.79       162\n",
      "           1       0.77      0.86      0.81       159\n",
      "\n",
      "    accuracy                           0.80       321\n",
      "   macro avg       0.81      0.80      0.80       321\n",
      "weighted avg       0.81      0.80      0.80       321\n",
      "\n"
     ]
    }
   ],
   "source": [
    "etc=ExtraTreesClassifier()\n",
    "etc.fit(x_train,y_train)\n",
    "predetc=etc.predict(x_test)\n",
    "print(accuracy_score(y_test,predetc))\n",
    "print(confusion_matrix(y_test,predetc))\n",
    "print(classification_report(y_test,predetc))"
   ]
  },
  {
   "cell_type": "code",
   "execution_count": 63,
   "id": "94a4000d",
   "metadata": {},
   "outputs": [
    {
     "name": "stdout",
     "output_type": "stream",
     "text": [
      "0.7133956386292835\n",
      "[[110  52]\n",
      " [ 40 119]]\n",
      "              precision    recall  f1-score   support\n",
      "\n",
      "           0       0.73      0.68      0.71       162\n",
      "           1       0.70      0.75      0.72       159\n",
      "\n",
      "    accuracy                           0.71       321\n",
      "   macro avg       0.71      0.71      0.71       321\n",
      "weighted avg       0.71      0.71      0.71       321\n",
      "\n"
     ]
    }
   ],
   "source": [
    "from sklearn.tree import DecisionTreeClassifier\n",
    "dtc=DecisionTreeClassifier()\n",
    "dtc.fit(x_train,y_train)\n",
    "preddtc=dtc.predict(x_test)\n",
    "print(accuracy_score(y_test,preddtc))\n",
    "print(confusion_matrix(y_test,preddtc))\n",
    "print(classification_report(y_test,preddtc))"
   ]
  },
  {
   "cell_type": "code",
   "execution_count": 66,
   "id": "8a0558c2",
   "metadata": {},
   "outputs": [
    {
     "name": "stdout",
     "output_type": "stream",
     "text": [
      "0.7133956386292835\n",
      "[[120  42]\n",
      " [ 50 109]]\n",
      "              precision    recall  f1-score   support\n",
      "\n",
      "           0       0.71      0.74      0.72       162\n",
      "           1       0.72      0.69      0.70       159\n",
      "\n",
      "    accuracy                           0.71       321\n",
      "   macro avg       0.71      0.71      0.71       321\n",
      "weighted avg       0.71      0.71      0.71       321\n",
      "\n"
     ]
    }
   ],
   "source": [
    "from sklearn.svm import SVC\n",
    "\n",
    "svc=SVC()\n",
    "svc.fit(x_train,y_train)\n",
    "predsvc=svc.predict(x_test)\n",
    "print(accuracy_score(y_test,predsvc))\n",
    "print(confusion_matrix(y_test,predsvc))\n",
    "print(classification_report(y_test,predsvc))"
   ]
  },
  {
   "cell_type": "code",
   "execution_count": 70,
   "id": "4ae5a948",
   "metadata": {},
   "outputs": [
    {
     "name": "stdout",
     "output_type": "stream",
     "text": [
      "0.7632398753894081\n",
      "[[122  40]\n",
      " [ 36 123]]\n",
      "              precision    recall  f1-score   support\n",
      "\n",
      "           0       0.77      0.75      0.76       162\n",
      "           1       0.75      0.77      0.76       159\n",
      "\n",
      "    accuracy                           0.76       321\n",
      "   macro avg       0.76      0.76      0.76       321\n",
      "weighted avg       0.76      0.76      0.76       321\n",
      "\n"
     ]
    }
   ],
   "source": [
    "from sklearn.neighbors import KNeighborsClassifier as KNN\n",
    "knn=KNN()\n",
    "knn.fit(x_train,y_train)\n",
    "predknn=knn.predict(x_test)\n",
    "print(accuracy_score(y_test,predknn))\n",
    "print(confusion_matrix(y_test,predknn))\n",
    "print(classification_report(y_test,predknn))"
   ]
  },
  {
   "cell_type": "code",
   "execution_count": 71,
   "id": "9734efa2",
   "metadata": {},
   "outputs": [
    {
     "name": "stdout",
     "output_type": "stream",
     "text": [
      "0.7445482866043613\n",
      "[[119  43]\n",
      " [ 39 120]]\n",
      "              precision    recall  f1-score   support\n",
      "\n",
      "           0       0.75      0.73      0.74       162\n",
      "           1       0.74      0.75      0.75       159\n",
      "\n",
      "    accuracy                           0.74       321\n",
      "   macro avg       0.74      0.74      0.74       321\n",
      "weighted avg       0.74      0.74      0.74       321\n",
      "\n"
     ]
    }
   ],
   "source": [
    "gbc=GradientBoostingClassifier()\n",
    "gbc.fit(x_train,y_train)\n",
    "predgbc=gbc.predict(x_test)\n",
    "print(accuracy_score(y_test,predgbc))\n",
    "print(confusion_matrix(y_test,predgbc))\n",
    "print(classification_report(y_test,predgbc))"
   ]
  },
  {
   "cell_type": "code",
   "execution_count": 73,
   "id": "115f2ee9",
   "metadata": {},
   "outputs": [
    {
     "name": "stdout",
     "output_type": "stream",
     "text": [
      "[0.72       0.78       0.74496644 0.72483221 0.75167785]\n",
      "0.7442953020134228\n",
      "difference between accuracy score and cross val score is 0.05944301574358657\n"
     ]
    }
   ],
   "source": [
    "from sklearn.model_selection import cross_val_score\n",
    "score=cross_val_score(etc,x_train,y_train)\n",
    "print(score)\n",
    "print(score.mean())\n",
    "print('difference between accuracy score and cross val score is',accuracy_score(y_test,predetc)-score.mean())"
   ]
  },
  {
   "cell_type": "code",
   "execution_count": 74,
   "id": "11006d05",
   "metadata": {},
   "outputs": [
    {
     "name": "stdout",
     "output_type": "stream",
     "text": [
      "[0.72666667 0.70666667 0.6442953  0.7114094  0.71812081]\n",
      "0.7014317673378077\n",
      "difference between accuracy score and cross val score is 0.04311651926655369\n"
     ]
    }
   ],
   "source": [
    "from sklearn.model_selection import cross_val_score\n",
    "score=cross_val_score(gbc,x_train,y_train)\n",
    "print(score)\n",
    "print(score.mean())\n",
    "print('difference between accuracy score and cross val score is',accuracy_score(y_test,predgbc)-score.mean())"
   ]
  },
  {
   "cell_type": "code",
   "execution_count": 78,
   "id": "2809ec15",
   "metadata": {},
   "outputs": [
    {
     "data": {
      "text/plain": [
       "{'max_depth': 10, 'n_estimators': 100, 'random_state': 1000}"
      ]
     },
     "execution_count": 78,
     "metadata": {},
     "output_type": "execute_result"
    }
   ],
   "source": [
    "from sklearn.model_selection import GridSearchCV \n",
    "parameters = {\"random_state\":[10,50,1000],\"max_depth\":[5,10,20],\"n_estimators\":[50,100,200,300]}\n",
    "gbc=GradientBoostingClassifier()\n",
    "gcv=GridSearchCV(gbc,parameters,cv=5)\n",
    "gcv.fit(x_train,y_train)\n",
    "gcv.best_params_\n"
   ]
  },
  {
   "cell_type": "code",
   "execution_count": null,
   "id": "eaeca0b5",
   "metadata": {},
   "outputs": [],
   "source": [
    "\n"
   ]
  },
  {
   "cell_type": "code",
   "execution_count": 92,
   "id": "25e1ea36",
   "metadata": {},
   "outputs": [
    {
     "data": {
      "text/plain": [
       "{'criterion': 'gini',\n",
       " 'max_depth': 20,\n",
       " 'n_estimators': 50,\n",
       " 'random_state': 1000}"
      ]
     },
     "execution_count": 92,
     "metadata": {},
     "output_type": "execute_result"
    }
   ],
   "source": [
    "from sklearn.model_selection import GridSearchCV \n",
    "parameters = {\"criterion\":['gini','entropy'],\"random_state\":[10,50,1000],\"max_depth\":[5,10,20],\"n_estimators\":[50,100,200,300]}\n",
    "etc=ExtraTreesClassifier()\n",
    "gcv=GridSearchCV(etc,parameters,cv=5)\n",
    "gcv.fit(x_train,y_train)\n",
    "gcv.best_params_\n"
   ]
  },
  {
   "cell_type": "code",
   "execution_count": 94,
   "id": "3462ee76",
   "metadata": {},
   "outputs": [
    {
     "name": "stdout",
     "output_type": "stream",
     "text": [
      "0.8099688473520249\n",
      "[[125  37]\n",
      " [ 24 135]]\n",
      "              precision    recall  f1-score   support\n",
      "\n",
      "           0       0.84      0.77      0.80       162\n",
      "           1       0.78      0.85      0.82       159\n",
      "\n",
      "    accuracy                           0.81       321\n",
      "   macro avg       0.81      0.81      0.81       321\n",
      "weighted avg       0.81      0.81      0.81       321\n",
      "\n"
     ]
    }
   ],
   "source": [
    "final_model=ExtraTreesClassifier(criterion='gini',max_depth = 20, n_estimators = 50, random_state = 1000)\n",
    "final_model.fit(x_train,y_train)\n",
    "predetc=final_model.predict(x_test)\n",
    "pred_train=final_model.predict(x_train)\n",
    "print(accuracy_score(y_test,predetc))\n",
    "print(confusion_matrix(y_test,predetc))\n",
    "print(classification_report(y_test,predetc))"
   ]
  },
  {
   "cell_type": "code",
   "execution_count": 95,
   "id": "23f6a80f",
   "metadata": {},
   "outputs": [],
   "source": [
    "from sklearn import metrics\n",
    "from sklearn import model_selection\n",
    "from sklearn.metrics import plot_roc_curve "
   ]
  },
  {
   "cell_type": "code",
   "execution_count": 96,
   "id": "694b3d4b",
   "metadata": {},
   "outputs": [
    {
     "data": {
      "image/png": "[encoded data removed]",
      "text/plain": [
       "<Figure size 640x480 with 1 Axes>"
      ]
     },
     "metadata": {},
     "output_type": "display_data"
    }
   ],
   "source": [
    "plot_roc_curve(final_model,x_test,y_test)\n",
    "plt.title('roc for the best model')\n",
    "plt.show()"
   ]
  },
  {
   "cell_type": "code",
   "execution_count": 97,
   "id": "ed2ac948",
   "metadata": {},
   "outputs": [],
   "source": [
    "from sklearn.metrics import roc_auc_score,auc\n",
    "from sklearn.metrics import roc_curve"
   ]
  },
  {
   "cell_type": "code",
   "execution_count": 98,
   "id": "d393333f",
   "metadata": {},
   "outputs": [
    {
     "data": {
      "image/png": "[encoded data removed]",
      "text/plain": [
       "<Figure size 640x480 with 1 Axes>"
      ]
     },
     "metadata": {},
     "output_type": "display_data"
    },
    {
     "name": "stdout",
     "output_type": "stream",
     "text": [
      "Auc score: /n 0.8103307710225949\n"
     ]
    }
   ],
   "source": [
    "y_pred_prob = final_model.predict_proba(x_test)[:,1]\n",
    "fpr,tpr,thresholds = roc_curve(y_test,y_pred_prob)\n",
    "roc_auc = auc(fpr,tpr)\n",
    "plt.plot([0,1],[0,1],'k--')\n",
    "plt.plot(fpr,tpr,label='ExtraTreesClassifier(area=%0.2f)'%roc_auc)\n",
    "plt.xlabel('False Positive Rate')\n",
    "plt.ylabel('True Positive Rate')\n",
    "plt.show()\n",
    "auc_score= roc_auc_score(y_test,final_model.predict(x_test))\n",
    "print('Auc score:','/n',auc_score)"
   ]
  },
  {
   "cell_type": "code",
   "execution_count": 99,
   "id": "c6bf55cd",
   "metadata": {},
   "outputs": [],
   "source": [
    "import joblib"
   ]
  },
  {
   "cell_type": "code",
   "execution_count": 101,
   "id": "b2083f34",
   "metadata": {},
   "outputs": [
    {
     "data": {
      "text/plain": [
       "['titanic.pkl']"
      ]
     },
     "execution_count": 101,
     "metadata": {},
     "output_type": "execute_result"
    }
   ],
   "source": [
    "joblib.dump('final_model','titanic.pkl')"
   ]
  },
  {
   "cell_type": "code",
   "execution_count": 110,
   "id": "373ccbaf",
   "metadata": {},
   "outputs": [
    {
     "data": {
      "text/plain": [
       "array([0, 0, 0, 1, 1, 0, 1, 0, 1, 1, 1, 1, 1, 1, 0, 1, 1, 0, 0, 0, 0, 1,\n",
       "       0, 0, 0, 0, 0, 1, 1, 1, 1, 0, 1, 0, 1, 0, 1, 0, 1, 1, 1, 1, 0, 1,\n",
       "       1, 1, 1, 1, 1, 1, 1, 1, 0, 1, 1, 1, 0, 1, 0, 0, 0, 0, 1, 0, 0, 0,\n",
       "       1, 1, 0, 1, 1, 1, 1, 1, 0, 1, 0, 0, 0, 1, 1, 0, 1, 0, 0, 0, 1, 0,\n",
       "       1, 1, 0, 0, 1, 1, 1, 1, 1, 1, 0, 1, 0, 0, 0, 0, 1, 0, 1, 0, 1, 1,\n",
       "       1, 0, 1, 0, 0, 0, 1, 0, 0, 0, 0, 0, 1, 0, 0, 1, 0, 1, 1, 1, 0, 1,\n",
       "       1, 1, 1, 0, 1, 0, 0, 0, 1, 1, 0, 0, 0, 1, 1, 1, 1, 0, 0, 1, 0, 0,\n",
       "       1, 0, 1, 0, 1, 0, 1, 0, 0, 1, 0, 0, 1, 0, 0, 0, 0, 0, 0, 1, 1, 0,\n",
       "       0, 1, 1, 0, 1, 1, 1, 1, 1, 0, 1, 0, 1, 0, 1, 1, 1, 0, 0, 0, 1, 1,\n",
       "       0, 1, 0, 0, 1, 1, 1, 1, 1, 0, 0, 1, 1, 1, 1, 1, 1, 0, 0, 0, 1, 0,\n",
       "       0, 1, 1, 0, 1, 1, 1, 0, 0, 0, 0, 1, 1, 0, 0, 1, 1, 1, 0, 0, 0, 1,\n",
       "       0, 1, 1, 1, 1, 0, 1, 1, 0, 1, 1, 1, 0, 0, 0, 1, 1, 1, 0, 0, 1, 1,\n",
       "       1, 0, 0, 0, 1, 0, 0, 0, 1, 1, 0, 1, 1, 1, 1, 0, 1, 0, 0, 1, 1, 1,\n",
       "       1, 0, 1, 1, 1, 0, 1, 1, 1, 1, 1, 0, 1, 0, 1, 1, 1, 0, 0, 0, 0, 0,\n",
       "       0, 0, 0, 1, 1, 0, 0, 0, 1, 0, 1, 1, 0], dtype=int64)"
      ]
     },
     "execution_count": 110,
     "metadata": {},
     "output_type": "execute_result"
    }
   ],
   "source": [
    "model=joblib.load('titanic.pkl')\n",
    "predetc = final_model.predict(x_test)\n",
    "predetc"
   ]
  },
  {
   "cell_type": "code",
   "execution_count": 107,
   "id": "975a3d83",
   "metadata": {},
   "outputs": [],
   "source": [
    "a=np.array(y_test)\n",
    "df=pd.DataFrame()\n",
    "df['predicted']=pred\n",
    "df['original']=a"
   ]
  },
  {
   "cell_type": "code",
   "execution_count": 108,
   "id": "6e33171d",
   "metadata": {},
   "outputs": [
    {
     "data": {
      "image/png": "[encoded data removed]",
      "text/plain": [
       "<Figure size 640x480 with 1 Axes>"
      ]
     },
     "metadata": {},
     "output_type": "display_data"
    },
    {
     "name": "stdout",
     "output_type": "stream",
     "text": [
      "Auc score: /n 0.8103307710225949\n"
     ]
    }
   ],
   "source": [
    "from sklearn.metrics import roc_auc_score,auc\n",
    "from sklearn.metrics import roc_curve\n",
    "#from sklearn.metrics import auc_score\n",
    "y_pred_prob=final_model.predict_proba(x_test)[:,1]\n",
    "fpr,tpr,thresholds=roc_curve(y_test,y_pred_prob)\n",
    "roc_auc=auc(fpr,tpr)\n",
    "plt.plot([0,1],[0,1],'k--')\n",
    "plt.plot(fpr,tpr,label='ExtraTreesClassifier(area=%0.2f)'%roc_auc)\n",
    "plt.xlabel('False Positive Rate')\n",
    "plt.ylabel('True Positive Rate')\n",
    "plt.show()\n",
    "auc_score=roc_auc_score(y_test,final_model.predict(x_test))\n",
    "print('Auc score:','/n',auc_score)"
   ]
  },
  {
   "cell_type": "code",
   "execution_count": null,
   "id": "0ce3df29",
   "metadata": {},
   "outputs": [],
   "source": []
  }
 ],
 "metadata": {
  "kernelspec": {
   "display_name": "Python 3 (ipykernel)",
   "language": "python",
   "name": "python3"
  },
  "language_info": {
   "codemirror_mode": {
    "name": "ipython",
    "version": 3
   },
   "file_extension": ".py",
   "mimetype": "text/x-python",
   "name": "python",
   "nbconvert_exporter": "python",
   "pygments_lexer": "ipython3",
   "version": "3.9.13"
  }
 },
 "nbformat": 4,
 "nbformat_minor": 5
}
